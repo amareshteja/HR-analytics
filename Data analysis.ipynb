{
  "cells": [
    {
      "metadata": {
        "collapsed": true,
        "_uuid": "8e60af5c935d2a89f85468144cd5f941d727e1bb",
        "_cell_guid": "65aa39c8-b565-4bbb-8b70-06151fe31860",
        "trusted": false
      },
      "cell_type": "code",
      "source": "import numpy as np\nimport pandas as pd\nimport matplotlib.pyplot as plt\nimport seaborn as sns\n\n%matplotlib inline",
      "execution_count": null,
      "outputs": []
    },
    {
      "metadata": {
        "collapsed": true,
        "_uuid": "c2dcf0bb34655f8217a2de1d97cffcb5bfd0fd02",
        "_cell_guid": "53505574-a768-45f5-833d-be66cf7c08cf",
        "trusted": false
      },
      "cell_type": "code",
      "source": "report_df = pd.read_csv('../input/HR_comma_sep.csv')\nreport_df.head()",
      "execution_count": null,
      "outputs": []
    },
    {
      "metadata": {
        "collapsed": true,
        "_uuid": "04c58894d53f9d48db02a9d5c56b6e72cbf2b55a",
        "_cell_guid": "4aac2587-f962-4aa1-8e3a-16af9548d419",
        "trusted": false
      },
      "cell_type": "code",
      "source": "report_df.info()",
      "execution_count": null,
      "outputs": []
    },
    {
      "metadata": {
        "collapsed": true,
        "_uuid": "9e006f401897b80b7b3a1d67cb6ef42048a47056",
        "_cell_guid": "59d3d3a8-b974-4697-a1bc-3168d4888ed6",
        "trusted": false
      },
      "cell_type": "code",
      "source": "sns.factorplot(\"left\",data=report_df,kind='count',legend=True)",
      "execution_count": null,
      "outputs": []
    },
    {
      "metadata": {
        "collapsed": true,
        "_uuid": "a8146606f276a26dbb8f43803bccbcdc30973736",
        "_cell_guid": "3fb3e0fa-fa27-463a-8d08-5353be1befb4",
        "trusted": false
      },
      "cell_type": "code",
      "source": "sns.regplot(x=\"satisfaction_level\", y=\"left\", data=report_df, order=1, truncate=True)",
      "execution_count": null,
      "outputs": []
    },
    {
      "metadata": {
        "collapsed": true,
        "_uuid": "ef315fba908259cbba89a055e912eb18ac67aa89",
        "_cell_guid": "e6b18f63-025a-4b56-b461-c85f18f0f895",
        "trusted": false
      },
      "cell_type": "code",
      "source": "sns.regplot(x=\"last_evaluation\", y=\"left\", data=report_df, truncate=True)",
      "execution_count": null,
      "outputs": []
    },
    {
      "metadata": {
        "collapsed": true,
        "_uuid": "24c2e0e24044a39a3b6b62cd5b30619d3589907e",
        "_cell_guid": "fca4a458-8ecb-456a-bba5-be2358cb2b13",
        "trusted": false
      },
      "cell_type": "code",
      "source": "sns.factorplot('number_project','left',data=report_df,aspect=2)",
      "execution_count": null,
      "outputs": []
    },
    {
      "metadata": {
        "collapsed": true,
        "_uuid": "f7d71ecea5eb6e27508c31db1369862b5a32d9ed",
        "_cell_guid": "e11bcba3-18d8-497e-9450-304407929ee1",
        "trusted": false
      },
      "cell_type": "code",
      "source": "sns.factorplot(\"average_montly_hours\", data=report_df[report_df.left == 1],kind='count',aspect=4,orient='h')",
      "execution_count": null,
      "outputs": []
    },
    {
      "metadata": {
        "collapsed": true,
        "_uuid": "5700f7a2e56394730b1fb2ec4cbbb08d6d4e288f",
        "_cell_guid": "55c3c7a8-123f-49b8-bd66-d876d0f51686",
        "trusted": false
      },
      "cell_type": "code",
      "source": "sns.factorplot('time_spend_company','left',data=report_df,aspect=2)",
      "execution_count": null,
      "outputs": []
    },
    {
      "metadata": {
        "collapsed": true,
        "_uuid": "ce5bd4d5457c6af80aa1335fad714f9fe20ab2e0",
        "_cell_guid": "d7b9e9e3-35a1-4919-b3de-eb9fd84ab615",
        "trusted": false
      },
      "cell_type": "code",
      "source": "sns.factorplot('Work_accident','left',data=report_df,aspect=2)",
      "execution_count": null,
      "outputs": []
    },
    {
      "metadata": {
        "collapsed": true,
        "_uuid": "e76de9a7f4a33f2e9d1c934b6cc8522c6e4a5694",
        "_cell_guid": "446bd0ca-3844-47a0-9b68-89f872764f06",
        "trusted": false
      },
      "cell_type": "code",
      "source": "sns.factorplot('promotion_last_5years','left',data=report_df,aspect=2)",
      "execution_count": null,
      "outputs": []
    },
    {
      "metadata": {
        "collapsed": true,
        "_uuid": "c4df5e3f8cba0d4b24d1ffc721faebb1e3476457",
        "_cell_guid": "08463e7e-e2a9-49f2-a29d-63b22af9374a",
        "trusted": false
      },
      "cell_type": "code",
      "source": "sns.factorplot('sales','left',data=report_df,aspect=4)",
      "execution_count": null,
      "outputs": []
    },
    {
      "metadata": {
        "collapsed": true,
        "_uuid": "91b6d2cfebade352e3d446d0d0ea2a9eebe4c702",
        "_cell_guid": "3a7a6d2e-aad0-4c9e-880e-a6bf0a841319",
        "trusted": false
      },
      "cell_type": "code",
      "source": "sns.factorplot('salary','left',data=report_df,aspect=2)",
      "execution_count": null,
      "outputs": []
    },
    {
      "metadata": {
        "collapsed": true,
        "_uuid": "63ca91ddf2d865c4b77ea1ba394a4c96a32d47aa",
        "_cell_guid": "1b916575-b405-4ef2-b2ba-31e4756c3b05",
        "trusted": false
      },
      "cell_type": "code",
      "source": "report_df.head()",
      "execution_count": null,
      "outputs": []
    },
    {
      "metadata": {
        "collapsed": true,
        "_uuid": "bbb2c048f1d86139ea3233051f1d1824074edd38",
        "_cell_guid": "ee043feb-0af8-4b2f-914b-fecaafc4ac37",
        "trusted": false
      },
      "cell_type": "code",
      "source": "domain_df = pd.get_dummies(report_df.sales, prefix='domain')\ndomain_df.head()",
      "execution_count": null,
      "outputs": []
    },
    {
      "metadata": {
        "collapsed": true,
        "_uuid": "5c447e468b044074e315eba3e89d3484788da1e7",
        "_cell_guid": "6bd012e4-1c93-4ef4-b54f-2603dc61a39e",
        "trusted": false
      },
      "cell_type": "code",
      "source": "salary_df = pd.get_dummies(report_df.salary, prefix='salary')\nsalary_df.head()",
      "execution_count": null,
      "outputs": []
    },
    {
      "metadata": {
        "collapsed": true,
        "_uuid": "8922e59590b43dfd76b5a406c3d39943a47163c3",
        "_cell_guid": "e03dde61-f66b-4257-abaa-6f4274a02ba5",
        "trusted": false
      },
      "cell_type": "code",
      "source": "processed_df = pd.concat([report_df, domain_df, salary_df], axis=1)\nprocessed_df.drop(['sales','salary'],axis=1,inplace=True)\nprocessed_df.drop(['last_evaluation','time_spend_company','average_montly_hours'],axis=1,inplace=True)\nprocessed_df.head()",
      "execution_count": null,
      "outputs": []
    },
    {
      "metadata": {
        "collapsed": true,
        "_uuid": "db51083bd4c476f1898b34f75eff6cb0e702ce68",
        "_cell_guid": "d01f3f91-3a1c-449f-9834-d074ceba0d16",
        "trusted": false
      },
      "cell_type": "code",
      "source": "result_df = processed_df['left']\nprocessed_df.drop(['left'],axis=1,inplace=True)\nfrom sklearn.model_selection import train_test_split\ntrain_valid_X,test_X,train_valid_y,test_y = train_test_split(processed_df,result_df, test_size=0.3)\ntrain_X , valid_X , train_y , valid_y = train_test_split( train_valid_X , train_valid_y , train_size = .7 )",
      "execution_count": null,
      "outputs": []
    },
    {
      "metadata": {
        "collapsed": true,
        "_uuid": "12b9ce7732cf264dd5b3e49aac16723b61198535",
        "_cell_guid": "8bf7b8c4-e086-4c51-89a2-1a5677666f8b",
        "trusted": false
      },
      "cell_type": "code",
      "source": "from sklearn.svm import LinearSVC\nfrom sklearn.feature_selection import SelectFromModel\nfrom sklearn.ensemble import ExtraTreesClassifier\n\nlsvc = LinearSVC(C=0.01, penalty=\"l1\", dual=False).fit(train_X, train_y)\nmodel = SelectFromModel(lsvc, prefit=True)\ntrain_X_new = model.transform(train_X)\nvalid_X_new = model.transform(valid_X)\nforest = ExtraTreesClassifier(random_state=0)\nforest.fit(train_X_new, train_y)\n# print('Train accuracy: ' + str(forest.score(train_X_new,train_y)))\nprint('Train accuracy: ' + str(forest.score(train_X_new,train_y))+'\\nValidation accuracy: '+ str(forest.score(valid_X_new,valid_y)))",
      "execution_count": null,
      "outputs": []
    },
    {
      "metadata": {
        "collapsed": true,
        "_uuid": "1a8d145ffebe3f6e9895b9aa4915c20a0bc97268",
        "_cell_guid": "1fc961ff-1afe-41bb-8136-9878949ffec0",
        "trusted": false
      },
      "cell_type": "code",
      "source": "from sklearn.metrics import accuracy_score\ntest_X_new = model.transform(test_X)\ntest_Y = forest.predict(test_X_new)\nprint('Fianl Model accuracy: ' + str(accuracy_score(test_y, test_Y)))",
      "execution_count": null,
      "outputs": []
    },
    {
      "metadata": {
        "collapsed": true,
        "_uuid": "e9450ac5425f05ad73412b50cd5569fe08e2ae54",
        "_cell_guid": "7c36cd20-b18e-4f65-ae20-bbea5b490ea8",
        "trusted": false
      },
      "cell_type": "code",
      "source": "",
      "execution_count": null,
      "outputs": []
    },
    {
      "metadata": {
        "collapsed": true,
        "_uuid": "9d9c7a72f7afbff7b9186dbd6014449a7d056a63",
        "_cell_guid": "06c4be52-8a7c-461a-be5d-a5b6638d7b62",
        "trusted": false
      },
      "cell_type": "code",
      "source": "",
      "execution_count": null,
      "outputs": []
    }
  ],
  "metadata": {
    "kernelspec": {
      "display_name": "Python 3",
      "language": "python",
      "name": "python3"
    },
    "language_info": {
      "version": "3.6.3",
      "file_extension": ".py",
      "mimetype": "text/x-python",
      "nbconvert_exporter": "python",
      "codemirror_mode": {
        "version": 3,
        "name": "ipython"
      },
      "pygments_lexer": "ipython3",
      "name": "python"
    }
  },
  "nbformat": 4,
  "nbformat_minor": 1
}